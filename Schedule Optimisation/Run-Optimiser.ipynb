{
 "cells": [
  {
   "cell_type": "code",
   "execution_count": null,
   "metadata": {},
   "outputs": [],
   "source": [
    "from MILPOptimisation import *"
   ]
  },
  {
   "cell_type": "code",
   "execution_count": null,
   "metadata": {},
   "outputs": [],
   "source": [
    "schedule_df, inventory_df = setup_and_solve(5, 2, 2, 1, demand_seed=0, production_seed=0, i= 1000, save=False, saveplot=True)"
   ]
  }
 ],
 "metadata": {
  "kernelspec": {
   "display_name": "Python 3 (ipykernel)",
   "language": "python",
   "name": "python3"
  },
  "language_info": {
   "codemirror_mode": {
    "name": "ipython",
    "version": 3
   },
   "file_extension": ".py",
   "mimetype": "text/x-python",
   "name": "python",
   "nbconvert_exporter": "python",
   "pygments_lexer": "ipython3",
   "version": "3.9.13"
  },
  "vscode": {
   "interpreter": {
    "hash": "40e0108b4206bf8f3b082539d987ee45a848c77a2d0b3ed5af98b677933d1b02"
   }
  }
 },
 "nbformat": 4,
 "nbformat_minor": 2
}
