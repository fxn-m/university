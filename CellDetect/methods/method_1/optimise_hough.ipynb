{
 "cells": [
  {
   "cell_type": "code",
   "execution_count": null,
   "id": "3c1dc0fa",
   "metadata": {},
   "outputs": [],
   "source": [
    "import shutil, stat\n",
    "import torch\n",
    "import os\n",
    "import glob\n",
    "import cv2 as cv\n",
    "import pandas as pd\n",
    "import matplotlib.pyplot as plt\n",
    "import matplotlib.image as mpimg\n",
    "import json\n",
    "import numpy as np\n",
    "from PIL import Image\n",
    "from tqdm import tqdm\n",
    "import math\n",
    "%matplotlib inline"
   ]
  },
  {
   "cell_type": "code",
   "execution_count": null,
   "id": "c67d0c94",
   "metadata": {},
   "outputs": [],
   "source": [
    "module_base = r\"C:\\Users\\felix\\OneDrive - University of Bristol\\Year 4\\1. Design Project 4\\Project\\weld-spot-prediction\\evaluation\\\\\"\n",
    "# MODULE 1 location of test_image and output\n",
    "module_1_base = module_base + \"module_1\\\\\"\n",
    "module_1_path = module_1_base + 'test_image.jpg'\n",
    "\n",
    "# MODULE 2 location of test_image\n",
    "module_2_base = module_base + \"module_2\\\\\"\n",
    "module_2_path = module_2_base + 'test_image.jpg'\n",
    "\n",
    "# MODULE 3 location of test_image\n",
    "module_3_base = module_base + \"module_3\\\\\"\n",
    "module_3_path = module_3_base + 'test_image.jpg'\n",
    "\n",
    "# MODULE 4 location of test_image\n",
    "module_4_base = module_base + \"module_4\\\\\"\n",
    "module_4_path = module_4_base + 'test_image.jpg'"
   ]
  },
  {
   "cell_type": "code",
   "execution_count": null,
   "id": "c18ae4b1",
   "metadata": {},
   "outputs": [],
   "source": [
    "def find_image_path(module):\n",
    "    # location of test image\n",
    "    if module == 1:\n",
    "        image_path = module_1_path\n",
    "    elif module == 2:\n",
    "        image_path = module_2_path\n",
    "    elif module == 3:\n",
    "        image_path = module_3_path\n",
    "    elif module == 4:\n",
    "        image_path = module_4_path\n",
    "        \n",
    "    return image_path"
   ]
  },
  {
   "cell_type": "code",
   "execution_count": null,
   "id": "26ec44b7",
   "metadata": {},
   "outputs": [],
   "source": [
    "def find_module_path(module):\n",
    "    \n",
    "    if module == 1:\n",
    "        module_path = 'module_1'\n",
    "    elif module == 2:\n",
    "        module_path = 'module_2'\n",
    "    elif module == 3:\n",
    "        module_path = 'module_3'\n",
    "    elif module == 4:\n",
    "        module_path = 'module_4'\n",
    "    \n",
    "    return module_path"
   ]
  },
  {
   "cell_type": "code",
   "execution_count": null,
   "id": "c573703c",
   "metadata": {},
   "outputs": [],
   "source": [
    "def cv_image_display(image, x_dim, y_dim):\n",
    "    \n",
    "    # resize to fit window\n",
    "    y_sf = 0.3\n",
    "    x_sf = 0.3\n",
    "    y_dim_rs = int(y_dim*y_sf)\n",
    "    x_dim_rs = int(x_dim*x_sf)\n",
    "    image = cv.resize(image, (x_dim_rs, y_dim_rs)) \n",
    "    \n",
    "    # display image\n",
    "    cv.imshow('img', image)\n",
    "    cv.waitKey(0)"
   ]
  },
  {
   "cell_type": "code",
   "execution_count": null,
   "id": "673402d9",
   "metadata": {},
   "outputs": [],
   "source": [
    "def hough(module, dp, min_dist, param_1, param_2, min_radius, max_radius, vis):\n",
    "    \n",
    "    image_path = find_image_path(module)\n",
    "    output_path = '\\\\'.join(image_path.split('\\\\')[0:-1]) + '\\\\method_1_predicted\\\\'\n",
    "\n",
    "#     print(image_path)\n",
    "    img = cv.imread(image_path)\n",
    "    y_dim = img.shape[0]\n",
    "    x_dim = img.shape[1]\n",
    "\n",
    "    gray = np.copy(cv.cvtColor(img, cv.COLOR_BGR2GRAY))\n",
    "    img = cv.medianBlur(gray,5)\n",
    "    cimg = np.copy(cv.cvtColor(img,cv.COLOR_GRAY2BGR))\n",
    "\n",
    "\n",
    "    circles = cv.HoughCircles(img, cv.HOUGH_GRADIENT, dp, min_dist, \n",
    "                              param1=param_1, param2=param_2, \n",
    "                              minRadius=min_radius, maxRadius=max_radius)\n",
    "    \n",
    "    circles = np.uint16(np.around(circles))\n",
    "\n",
    "    for i in circles[0,:]:\n",
    "        # draw the outer circle\n",
    "        cv.circle(cimg,(i[0],i[1]),i[2],(0,255,0),2)\n",
    "        # draw the center of the circle\n",
    "        cv.circle(cimg,(i[0],i[1]),2,(0,0,255),3)\n",
    "\n",
    "    if vis:\n",
    "        cv_image_display(cimg, x_dim, y_dim)\n",
    "        \n",
    "\n",
    "    xs = []\n",
    "    ys = []\n",
    "\n",
    "    for circle in circles[0]:\n",
    "        x = int(circle[0])\n",
    "        y = int(circle[1])\n",
    "\n",
    "        xs.append(x)\n",
    "        ys.append(y)\n",
    "        \n",
    "    return xs, ys"
   ]
  },
  {
   "cell_type": "code",
   "execution_count": null,
   "id": "07f25ca0",
   "metadata": {},
   "outputs": [],
   "source": [
    "def find_mm_px_r(module):\n",
    "    \n",
    "    # define pixel/mm ratio for the image\n",
    "\n",
    "    if module == 1:\n",
    "        mm_px_r = 18/239\n",
    "        \n",
    "    if module == 2:\n",
    "        mm_px_r = 18/158\n",
    "        \n",
    "    if module == 3:\n",
    "        mm_px_r = 18/217\n",
    "        \n",
    "    if module == 4:\n",
    "        mm_px_r = 18/257\n",
    "        \n",
    "    return mm_px_r"
   ]
  },
  {
   "cell_type": "code",
   "execution_count": null,
   "id": "935e1c83",
   "metadata": {},
   "outputs": [],
   "source": [
    "def find_delta(module, pred_x, pred_y, gt_path):\n",
    "    \n",
    "    with open(gt_path + '\\\\test_image' + '-x.json', \"r\") as fp:\n",
    "        gt_x = json.load(fp)\n",
    "\n",
    "    with open(gt_path + '\\\\test_image' + '-y.json', \"r\") as fp:\n",
    "        gt_y = json.load(fp)\n",
    "    \n",
    "    \n",
    "    mm_px_r = find_mm_px_r(module)\n",
    "    \n",
    "    # define mm threshold for a successful prediction\n",
    "    min_delta_mm = 3\n",
    "\n",
    "    delta_px = 0\n",
    "    failed_gt_idx = []\n",
    "    failed_pred_idx = []\n",
    "    \n",
    "    \n",
    "    \n",
    "    \n",
    "    # find fails\n",
    "    \n",
    "    for i in range(len(gt_x)):\n",
    "\n",
    "        smallest_delta = 1e6\n",
    "\n",
    "        for j in range(len(pred_x)):\n",
    "            # find the absolute difference in x\n",
    "            x_delta = abs(gt_x[i] - pred_x[j])\n",
    "            # find the absolute difference in y\n",
    "            y_delta = abs(gt_y[i] - pred_y[j])\n",
    "            # find euclidian distance of difference\n",
    "            euclidian_delta = math.sqrt(x_delta**2 + y_delta**2)\n",
    "            # keep the smallest distance\n",
    "            if euclidian_delta < smallest_delta:\n",
    "                prediction_index = j\n",
    "                smallest_delta = euclidian_delta\n",
    "                \n",
    "        # flag if the smallest distance is greater than the threshold in mm\n",
    "        if smallest_delta * mm_px_r > min_delta_mm:\n",
    "            failed_gt_idx.append(i)\n",
    "    \n",
    "            if smallest_delta * mm_px_r < 10:\n",
    "#                 print('predictions for ground truth point', i, 'failed by prediction', prediction_index)\n",
    "                failed_pred_idx.append(prediction_index)\n",
    "            else:\n",
    "                failed_pred_idx.append(-1)\n",
    "    \n",
    "\n",
    "    \n",
    "    \n",
    "    # find px distance\n",
    "    \n",
    "    for j in range(len(pred_x)):\n",
    "        smallest_delta = 1e6\n",
    "        \n",
    "        for i in range(len(gt_x)):\n",
    "            # find the absolute difference in x\n",
    "            x_delta = abs(gt_x[i] - pred_x[j])\n",
    "            # find the absolute difference in y\n",
    "            y_delta = abs(gt_y[i] - pred_y[j])\n",
    "            # find euclidian distance of difference\n",
    "            euclidian_delta = math.sqrt(x_delta**2 + y_delta**2)\n",
    "            # keep the smallest distance\n",
    "            if euclidian_delta < smallest_delta:\n",
    "                smallest_delta = euclidian_delta\n",
    "                \n",
    "                # add the smallest distance to the total delta metric\n",
    "        delta_px += smallest_delta\n",
    "    \n",
    "    delta_mm = delta_px * mm_px_r\n",
    "    \n",
    "    # difference in number of predicted spots to real spots\n",
    "    delta_spots = abs(len(pred_x) - len(gt_x))\n",
    "    \n",
    "#     print('sum of errors in px=', delta_px,\n",
    "#          '\\nmissed/extra spots =', delta_spots,\n",
    "#          '\\nfails =', len(failed_gt_idx))\n",
    "    \n",
    "    return failed_gt_idx, failed_pred_idx, delta_px, delta_mm, delta_spots"
   ]
  },
  {
   "cell_type": "code",
   "execution_count": null,
   "id": "d230469a",
   "metadata": {},
   "outputs": [],
   "source": [
    "# param_1_range = np.linspace(75,125,11)\n",
    "# param_2_range = np.linspace(15,25,11)\n",
    "param_1_range = np.linspace(10,400,11)\n",
    "param_2_range = np.linspace(10,200,11)\n",
    "\n",
    "module = 2\n",
    "gt_path = f\"C:\\\\Users\\\\felix\\\\OneDrive - University of Bristol\\\\Year 4\\\\1. Design Project 4\\\\Project\\\\weld-spot-prediction\\\\evaluation\\\\module_{module}\\\\ground-truth\"\n",
    "\n",
    "delta_pxs = []\n",
    "delta_mms = []\n",
    "delta_spotss = []\n",
    "fails = []\n",
    "\n",
    "p1s = []\n",
    "p2s = []\n",
    "\n",
    "for p1 in tqdm(param_1_range):\n",
    "    \n",
    "    for p2 in param_2_range:\n",
    "        \n",
    "        try:\n",
    "\n",
    "            pred_x, pred_y = hough(module, dp = 1, min_dist = 100, \n",
    "                                   param_1 = p1, param_2 = p2, \n",
    "                                   min_radius = 50, max_radius = 60, \n",
    "                                   vis=False)\n",
    "\n",
    "            failed_gt_idx, failed_pred_idx, delta_px, delta_mm, delta_spots = find_delta(module, pred_x, pred_y, gt_path)\n",
    "\n",
    "\n",
    "            delta_pxs.append(delta_px)\n",
    "            delta_mms.append(delta_mm)\n",
    "            delta_spotss.append(delta_spots)\n",
    "            fails.append(len(failed_gt_idx))\n",
    "\n",
    "            p1s.append(p1)\n",
    "            p2s.append(p2)\n",
    "            \n",
    "                \n",
    "        except:\n",
    "            print('error')"
   ]
  },
  {
   "cell_type": "markdown",
   "id": "da46f239",
   "metadata": {},
   "source": [
    "---"
   ]
  },
  {
   "cell_type": "markdown",
   "id": "3e754561",
   "metadata": {},
   "source": [
    "#### visualisations"
   ]
  },
  {
   "cell_type": "code",
   "execution_count": null,
   "id": "7bdb2e03",
   "metadata": {},
   "outputs": [],
   "source": [
    "%matplotlib inline\n",
    "\n",
    "X0, X1 = np.meshgrid(param_1_range, param_2_range)\n",
    "levels = np.linspace(a.min(), a.max(), 30)"
   ]
  },
  {
   "cell_type": "code",
   "execution_count": null,
   "id": "9ed288d2",
   "metadata": {},
   "outputs": [],
   "source": [
    "t = []\n",
    "for i in delta_spotss:\n",
    "    if i != 0:\n",
    "        t.append(math.log(i))\n",
    "    else:\n",
    "        t.append(i)\n",
    "    \n",
    "a = np.reshape(np.array(t), (11,11))\n",
    "levels = np.linspace(a.min(), a.max(), 30)\n",
    "\n",
    "fig, ax = plt.subplots()\n",
    "CS = ax.contourf(X0, X1, a, levels=levels)\n",
    "CB = fig.colorbar(CS)\n",
    "ax.set_title('metric 1')\n",
    "ax.set_xlabel('param_1')\n",
    "ax.set_ylabel('param_2')\n",
    "\n",
    "plt.show()"
   ]
  },
  {
   "cell_type": "code",
   "execution_count": null,
   "id": "8e59d3dd",
   "metadata": {},
   "outputs": [],
   "source": [
    "t = [math.log(i) for i in delta_pxs]\n",
    "a = np.reshape(np.array(t), (11,11))\n",
    "levels = np.linspace(a.min(), a.max(), 30)\n",
    "\n",
    "fig, ax = plt.subplots()\n",
    "CS = ax.contourf(X0, X1, a, levels=levels)\n",
    "CB = fig.colorbar(CS)\n",
    "ax.set_title('metric 2')\n",
    "ax.set_xlabel('param_1')\n",
    "ax.set_ylabel('param_2')\n",
    "\n",
    "plt.show()"
   ]
  },
  {
   "cell_type": "code",
   "execution_count": null,
   "id": "0bcfda47",
   "metadata": {},
   "outputs": [],
   "source": [
    "a = np.array(fails)\n",
    "a = np.reshape(np.array(a), (11,11))\n",
    "levels = np.linspace(a.min(), a.max(), 30)\n",
    "\n",
    "fig, ax = plt.subplots()\n",
    "CS = ax.contourf(X0, X1, a, levels=levels)\n",
    "CB = fig.colorbar(CS)\n",
    "ax.set_title('metric 3')\n",
    "ax.set_xlabel('param_1')\n",
    "ax.set_ylabel('param_2')\n",
    "\n",
    "plt.show()"
   ]
  },
  {
   "cell_type": "markdown",
   "id": "d1a562a0",
   "metadata": {},
   "source": [
    "---"
   ]
  },
  {
   "cell_type": "markdown",
   "id": "6461b802",
   "metadata": {},
   "source": [
    "#### data and image analysis"
   ]
  },
  {
   "cell_type": "code",
   "execution_count": null,
   "id": "7311051c",
   "metadata": {},
   "outputs": [],
   "source": [
    "print(min(delta_spotss))"
   ]
  },
  {
   "cell_type": "code",
   "execution_count": null,
   "id": "06dc6ed2",
   "metadata": {},
   "outputs": [],
   "source": [
    "print(min(delta_pxs))"
   ]
  },
  {
   "cell_type": "code",
   "execution_count": null,
   "id": "0f0d48eb",
   "metadata": {},
   "outputs": [],
   "source": [
    "print(delta_spotss, delta_mms)"
   ]
  },
  {
   "cell_type": "code",
   "execution_count": null,
   "id": "ee462a8e",
   "metadata": {},
   "outputs": [],
   "source": [
    "t = delta_spotss.copy()\n",
    "delta_spotss.sort()\n",
    "\n",
    "idx = [t.index(i) for i in delta_spotss]\n",
    "\n",
    "delta_spotss = t.copy()"
   ]
  },
  {
   "cell_type": "code",
   "execution_count": null,
   "id": "b83b8169",
   "metadata": {},
   "outputs": [],
   "source": [
    "print(idx[0:5])\n",
    "print(delta_spotss[0:5])"
   ]
  },
  {
   "cell_type": "code",
   "execution_count": null,
   "id": "7ea81cc7",
   "metadata": {},
   "outputs": [],
   "source": [
    "delta_spotss"
   ]
  },
  {
   "cell_type": "code",
   "execution_count": null,
   "id": "78fee527",
   "metadata": {},
   "outputs": [],
   "source": [
    "import operator, collections\n",
    "\n",
    "ds = {}\n",
    "for k, v in enumerate(delta_spotss):\n",
    "    ds[k] = v\n",
    "    \n",
    "sorted_ds = sorted(ds.items(), key=operator.itemgetter(1))\n",
    "sorted_ds = dict(collections.OrderedDict(sorted_ds))"
   ]
  },
  {
   "cell_type": "code",
   "execution_count": null,
   "id": "590db0c0",
   "metadata": {},
   "outputs": [],
   "source": [
    "dict(sorted_ds)"
   ]
  },
  {
   "cell_type": "code",
   "execution_count": null,
   "id": "382a3c5f",
   "metadata": {},
   "outputs": [],
   "source": [
    "for i in range(len(delta_spotss)):\n",
    "    \n",
    "#     if (delta_spotss[i] < 50) & (delta_pxs[i] < 10000):\n",
    "\n",
    "        \n",
    "        \n",
    "    if (delta_mms[i] < 80) & (delta_spotss[i] < 80):\n",
    "\n",
    "#     if delta_mms[i] < 40:\n",
    "\n",
    "\n",
    "        print(i)\n",
    "#         print(p1s[i], p2s[i])\n",
    "        print('')\n"
   ]
  },
  {
   "cell_type": "code",
   "execution_count": null,
   "id": "7a89b985",
   "metadata": {},
   "outputs": [],
   "source": [
    "i = 1\n",
    "print(p1s[i], p2s[i])\n",
    "\n",
    "pred_x, pred_y = hough(module, \n",
    "                       dp = 1, \n",
    "                       min_dist = 100, \n",
    "                       param_1 = p1s[i], param_2 = p2s[i], \n",
    "                       min_radius = 50, max_radius = 60,\n",
    "                       vis=True)\n",
    "\n",
    "gt_path = f\"C:\\\\Users\\\\felix\\\\OneDrive - University of Bristol\\\\Year 4\\\\1. Design Project 4\\\\Project\\\\weld-spot-prediction\\\\evaluation\\\\module_{module}\\\\ground-truth\"\n",
    "\n",
    "failed_gt_idx, failed_pred_idx, delta_px, delta_mm, delta_spots = find_delta(module, pred_x, pred_y, gt_path)\n",
    "\n",
    "print('delta_px =', delta_px, \n",
    "      '\\ndelta_mm =',delta_mm, \n",
    "      '\\ndelta_spots =',delta_spots,\n",
    "      '\\nfails =', len(failed_gt_idx))"
   ]
  },
  {
   "cell_type": "code",
   "execution_count": null,
   "id": "96a4c709",
   "metadata": {},
   "outputs": [],
   "source": [
    "module = 2\n",
    "pred_x, pred_y = hough(module, \n",
    "                       dp = 1, \n",
    "                       min_dist = 100, \n",
    "                       param_1 = 115, param_2 = 22, \n",
    "                       min_radius = 50, max_radius = 60,\n",
    "                       vis=True)\n",
    "\n",
    "gt_path = f\"C:\\\\Users\\\\felix\\\\OneDrive - University of Bristol\\\\Year 4\\\\1. Design Project 4\\\\Project\\\\weld-spot-prediction\\\\evaluation\\\\module_{module}\\\\ground-truth\"\n",
    "\n",
    "failed_gt_idx, failed_pred_idx, delta_px, delta_mm, delta_spots = find_delta(module, pred_x, pred_y, gt_path)\n",
    "\n",
    "print('delta_px =', delta_px, \n",
    "      '\\ndelta_mm =',delta_mm, \n",
    "      '\\ndelta_spots =',delta_spots,\n",
    "      '\\nfails =', len(failed_gt_idx))"
   ]
  },
  {
   "cell_type": "markdown",
   "id": "3dbb4a16",
   "metadata": {},
   "source": [
    "---"
   ]
  },
  {
   "cell_type": "markdown",
   "id": "dcd4a963",
   "metadata": {},
   "source": [
    "#### top-performers"
   ]
  },
  {
   "cell_type": "code",
   "execution_count": null,
   "id": "13e8ff6b",
   "metadata": {},
   "outputs": [],
   "source": [
    "class HoughParams:\n",
    "    \n",
    "    def __init__(self, dp, min_dist, param_1, param_2, min_radius, max_radius):\n",
    "        self.dp = dp\n",
    "        self.min_dist = min_dist\n",
    "        self.param_1 = param_1\n",
    "        self.param_2 = param_2\n",
    "        self.min_radius = min_radius\n",
    "        self.max_radius = max_radius\n",
    "        \n",
    "module_1_params = HoughParams(dp = 1, min_dist = 100, param_1 = 180, param_2 = 19, min_radius = 115, max_radius = 130)\n",
    "module_2_params = HoughParams(dp = 1, min_dist = 100, param_1 = 115, param_2 = 22, min_radius = 50, max_radius = 60)\n",
    "module_3_params = HoughParams(dp = 1, min_dist = 100, param_1 = 85, param_2 = 30, min_radius = 105, max_radius = 120)\n",
    "module_4_params = HoughParams(dp = 1, min_dist = 100, param_1 = 30, param_2 = 30, min_radius = 123, max_radius = 135)"
   ]
  },
  {
   "cell_type": "code",
   "execution_count": null,
   "id": "49bbc53e",
   "metadata": {},
   "outputs": [],
   "source": [
    "module = 2\n",
    "\n",
    "if module == 1:\n",
    "    params = module_1_params\n",
    "elif module == 2:\n",
    "    params = module_2_params\n",
    "elif module == 3: \n",
    "    params = module_3_params\n",
    "elif module == 4:\n",
    "    params = module_4_params\n",
    "\n",
    "pred_x, pred_y = hough(module, \n",
    "                       dp = params.dp, \n",
    "                       min_dist = params.min_dist, \n",
    "                       param_1 = params.param_1, param_2 = params.param_2, \n",
    "                       min_radius = params.min_radius, max_radius = params.max_radius,\n",
    "                       vis = True)\n",
    "\n",
    "gt_path = f\"C:\\\\Users\\\\felix\\\\OneDrive - University of Bristol\\\\Year 4\\\\1. Design Project 4\\\\Project\\\\weld-spot-prediction\\\\evaluation\\\\module_{module}\\\\ground-truth\"\n",
    "\n",
    "failed_gt_idx, failed_pred_idx, delta_px, delta_mm, delta_spots = find_delta(module, pred_x, pred_y, gt_path)\n",
    "\n",
    "print('delta_px =', delta_px, \n",
    "      '\\ndelta_mm =',delta_mm, \n",
    "      '\\ndelta_spots =',delta_spots,\n",
    "      '\\nfails =', len(failed_gt_idx))"
   ]
  },
  {
   "cell_type": "code",
   "execution_count": null,
   "id": "53bfad92",
   "metadata": {},
   "outputs": [],
   "source": [
    "image_path = find_image_path(module)\n",
    "output_path = '\\\\'.join(image_path.split('\\\\')[0:-1]) + '\\\\method_1_predicted\\\\'\n",
    "\n",
    "im = mpimg.imread(image_path)\n",
    "fig = plt.imshow(im)\n",
    "plt.scatter(pred_x, pred_y, c='r', marker=\"x\", alpha=0.7, linewidth=0.5)\n",
    "plt.show\n",
    "plt.savefig(output_path + 'test_image' + '.png', dpi=500)\n",
    "\n",
    "with open(output_path + 'test_image' + '-x.json', \"w\") as fp:\n",
    "    json.dump(pred_x, fp)\n",
    "\n",
    "with open(output_path + 'test_image' + '-y.json', \"w\") as fp:\n",
    "    json.dump(pred_y, fp)"
   ]
  },
  {
   "cell_type": "code",
   "execution_count": null,
   "id": "1b7f964a",
   "metadata": {},
   "outputs": [],
   "source": [
    "pred_x, pred_y = hough(module, \n",
    "                       dp = params.dp, \n",
    "                       min_dist = params.min_dist, \n",
    "                       param_1 = params.param_1, param_2 = params.param_2, \n",
    "                       min_radius = params.min_radius, max_radius = params.max_radius,\n",
    "                       vis = True)"
   ]
  },
  {
   "cell_type": "markdown",
   "id": "05d71183",
   "metadata": {},
   "source": [
    "---"
   ]
  }
 ],
 "metadata": {
  "kernelspec": {
   "display_name": "Python 3",
   "language": "python",
   "name": "python3"
  },
  "language_info": {
   "codemirror_mode": {
    "name": "ipython",
    "version": 3
   },
   "file_extension": ".py",
   "mimetype": "text/x-python",
   "name": "python",
   "nbconvert_exporter": "python",
   "pygments_lexer": "ipython3",
   "version": "3.8.8"
  }
 },
 "nbformat": 4,
 "nbformat_minor": 5
}
