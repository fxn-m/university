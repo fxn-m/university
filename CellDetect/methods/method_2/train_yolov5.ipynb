{
 "cells": [
  {
   "cell_type": "markdown",
   "id": "093a583b",
   "metadata": {
    "colab_type": "text",
    "id": "view-in-github"
   },
   "source": [
    "<a href=\"https://colab.research.google.com/github/fxn-m/design-project-4/blob/main/methods/method_2/train_yolov5.ipynb\" target=\"_parent\"><img src=\"https://colab.research.google.com/assets/colab-badge.svg\" alt=\"Open In Colab\"/></a>"
   ]
  },
  {
   "cell_type": "code",
   "execution_count": null,
   "id": "ygKMA9QOMXGR",
   "metadata": {
    "id": "ygKMA9QOMXGR"
   },
   "outputs": [],
   "source": [
    "# automate jupyter/colab config\n",
    "def isnotebook():\n",
    "    try:\n",
    "        shell = get_ipython().__class__.__name__\n",
    "        if shell == 'ZMQInteractiveShell':\n",
    "            return True   # Jupyter notebook or qtconsole\n",
    "        elif shell == 'TerminalInteractiveShell':\n",
    "            return False  # Terminal running IPython\n",
    "        else:\n",
    "            return False  # Other type (?)\n",
    "            \n",
    "    except NameError:\n",
    "        return False      # Probably standard Python interpreter\n",
    "    \n",
    "if isnotebook():\n",
    "  print('Jupyter Notebook')\n",
    "else:\n",
    "  print('Colab')"
   ]
  },
  {
   "cell_type": "code",
   "execution_count": null,
   "id": "bSEQuAvFnDTO",
   "metadata": {
    "id": "bSEQuAvFnDTO"
   },
   "outputs": [],
   "source": [
    "# colab \n",
    "if not isnotebook():\n",
    "    from tensorflow.python.client import device_lib\n",
    "    print(device_lib.list_local_devices())\n",
    "    from google.colab import drive\n",
    "    drive.mount('/content/drive')"
   ]
  },
  {
   "cell_type": "code",
   "execution_count": null,
   "id": "7fa8f8a0",
   "metadata": {
    "id": "7fa8f8a0"
   },
   "outputs": [],
   "source": [
    "# colab \n",
    "if not isnotebook():    \n",
    "    %cd /content/drive/MyDrive/University/year_4/dp4/working-cells\n",
    "    !rm -r /content/drive/MyDrive/University/year_4/dp4/working-cells/yolov5\n",
    "    !git clone https://github.com/ultralytics/yolov5 # clone \n",
    "    \n",
    "    %cd yolov5\n",
    "    %pip install -qr requirements.txt # install dependencies\n",
    "\n",
    "    import torch\n",
    "    import sys\n",
    "    sys.path.insert(0, './yolov5')\n",
    "\n",
    "    %cd /content/drive/MyDrive/University/year_4/dp4/working-cells\n",
    "\n",
    "    from yolov5 import utils, val\n",
    "    display = utils.notebook_init() #check\n",
    "\n",
    "    %pip install -q roboflow\n",
    "    %pip install -q wandb \n",
    "\n",
    "    import tensorflow as tf\n",
    "    tf.test.gpu_device_name()\n",
    "    \n",
    "# jupyter\n",
    "else: \n",
    "    %cd working-cells\n",
    "        \n",
    "    import shutil, stat\n",
    "\n",
    "    def on_rm_error(func, path, exc_info):\n",
    "        # path contains the path of the file that couldn't be removed\n",
    "        # let's just assume that it's read-only and unlink it.\n",
    "        os.chmod(path, stat.S_IWRITE )\n",
    "        os.unlink(path)\n",
    "\n",
    "    shutil.rmtree('yolov5', onerror = on_rm_error)\n",
    "    \n",
    "    !git clone https://github.com/ultralytics/yolov5\n",
    "        \n",
    "    %cd yolov5\n",
    "    %pip install -qr requirements.txt \n",
    "\n",
    "    import torch\n",
    "\n",
    "    %cd ..\n",
    "    from yolov5 import utils, val\n",
    "    display = utils.notebook_init() #check\n",
    "    \n",
    "    %cd .."
   ]
  },
  {
   "cell_type": "code",
   "execution_count": null,
   "id": "a8302fd1",
   "metadata": {
    "id": "a8302fd1"
   },
   "outputs": [],
   "source": [
    "# import libraries\n",
    "import os\n",
    "from IPython.display import Image, clear_output\n",
    "import wandb\n",
    "import matplotlib.pyplot as plt\n",
    "import sklearn as skl\n",
    "import pandas as pd\n",
    "import numpy as np\n",
    "from tqdm.notebook import tqdm\n",
    "from roboflow import Roboflow\n",
    "\n",
    "tqdm.pandas()\n",
    "\n",
    "model = 'yolov5s6'\n",
    "dim = 640\n",
    "batch = 12\n",
    "epochs = 150\n",
    "opt = 'Adam'\n",
    "module = 'module_1'\n",
    "tl = 'Y'\n",
    "mos = 'Y'\n",
    "\n",
    "name = f'{module}-dim{dim}-batch_size{batch}-tl{tl}-mos{mos}-colab' \n",
    "\n",
    "project = 'YOLOv5-cells'"
   ]
  },
  {
   "cell_type": "code",
   "execution_count": null,
   "id": "b7edb984",
   "metadata": {
    "id": "b7edb984"
   },
   "outputs": [],
   "source": [
    "%cd /content/drive/MyDrive/University/year_4/dp4/secrets\n",
    "  \n",
    "# WandB - credentials & login\n",
    "with open(\"wandbkey.txt\", 'r') as k:\n",
    "\n",
    "    try:\n",
    "        wandb.login(key=k.read())\n",
    "        anonymous = None\n",
    "    except:\n",
    "        wandb.login(anonymous='must')\n",
    "\n",
    "# roboflow - credentials\n",
    "with open(\"rbfkey2.txt\", 'r') as k:\n",
    "    rbfkey = k.read()"
   ]
  },
  {
   "cell_type": "code",
   "execution_count": null,
   "id": "ZoK-bB0DMIdw",
   "metadata": {
    "id": "ZoK-bB0DMIdw"
   },
   "outputs": [],
   "source": [
    "%cd /content/drive/MyDrive/University/year_4/dp4/working-cells/yolov5/\n",
    "\n",
    "rf = Roboflow(api_key=rbfkey)\n",
    "project = rf.workspace(\"yolov5moduleod\").project(\"modules_1-3\")\n",
    "dataset = project.version(1).download(\"yolov5\")\n",
    "\n",
    "location = dataset.location"
   ]
  },
  {
   "cell_type": "code",
   "execution_count": null,
   "id": "BZXwUHGb1-ZR",
   "metadata": {
    "id": "BZXwUHGb1-ZR"
   },
   "outputs": [],
   "source": [
    "dataset.location"
   ]
  },
  {
   "cell_type": "markdown",
   "id": "rUyalxbcuUKG",
   "metadata": {
    "id": "rUyalxbcuUKG"
   },
   "source": [
    "# hyperparameter sweep"
   ]
  },
  {
   "cell_type": "code",
   "execution_count": null,
   "id": "LjLJ4LSPoncU",
   "metadata": {
    "id": "LjLJ4LSPoncU"
   },
   "outputs": [],
   "source": [
    "# %%writefile /content/drive/MyDrive/University/year_4/dp4/working-cells/yolov5/utils/loggers/wandb/sweep.yaml\n",
    "\n",
    "# program: /content/drive/MyDrive/University/year_4/dp4/working-cells/yolov5/utils/loggers/wandb/sweep.py\n",
    "\n",
    "# method: random\n",
    "\n",
    "# metric:\n",
    "# name: metrics/mAP_0.5\n",
    "# goal: maximize\n",
    "\n",
    "# entity: fxn-m\n",
    "\n",
    "# project: YOLOv5-cells-sweeps\n",
    "\n",
    "# parameters:\n",
    "\n",
    "# batch_size:\n",
    "# distribution: int_uniform \n",
    "# max: 30\n",
    "# min: 10\n",
    "\n",
    "# optimizer:\n",
    "# value: Adam\n",
    "\n",
    "# weights:\n",
    "# value: yolov5s6.pt\n",
    "\n",
    "# epochs:\n",
    "# value: 150\n",
    "\n",
    "# imgsz:\n",
    "# value: 640\n",
    "\n",
    "# data:\n",
    "# value: /content/drive/MyDrive/University/year_4/dp4/working-cells/yolov5/modules_1-3-1/data.yaml\n",
    "\n",
    "# warmup_momentum:\n",
    "# max: 0.9\n",
    "# min: 0.7     \n",
    "# warmup_bias_lr:\n",
    "# max: 0.2\n",
    "# min: 0.01\n",
    "# warmup_epochs:\n",
    "# max: 4\n",
    "# min: 2\n",
    "# weight_decay:\n",
    "# max: 0.001\n",
    "# min: 0.0001\n",
    "# fl_gamma: \n",
    "# max: 1\n",
    "# min: 0\n",
    "# translate:\n",
    "# max: 0.2\n",
    "# min: 0.05\n",
    "# momentum:\n",
    "# max: 0.99\n",
    "# min: 0.8\n",
    "# anchor_t:\n",
    "# max: 6\n",
    "# min: 2\n",
    "# anchors:\n",
    "# max: 4\n",
    "# min: 2\n",
    "# obj_pw:\n",
    "# max: 2.0\n",
    "# min: 0.2\n",
    "# mosaic:\n",
    "# value: 0.5\n",
    "# flipud:\n",
    "# value: 0.5\n",
    "# fliplr:\n",
    "# value: 0.5\n",
    "# cls_pw:\n",
    "# max: 2.0\n",
    "# min: 0.2\n",
    "# scale:\n",
    "# max: 1.00\n",
    "# min: 0.25\n",
    "# mixup:\n",
    "# value: 0\n",
    "# iou_t:\n",
    "# max: 0.5\n",
    "# min: 0.2\n",
    "# hsv_v:\n",
    "# max: 0.6\n",
    "# min: 0.2\n",
    "# hsv_s:\n",
    "# max: 0.8\n",
    "# min: 0.5\n",
    "# hsv_h:\n",
    "# max: 0.1\n",
    "# min: 0.01      \n",
    "# degrees:\n",
    "# value: 0\n",
    "# translate:\n",
    "# max: 0.2\n",
    "# min: 0.0\n",
    "# scale:\n",
    "# max: 1\n",
    "# min: 0\n",
    "# shear:\n",
    "# value: 0\n",
    "# perspective:\n",
    "# max: 0.001\n",
    "# min: 0.0\n",
    "# obj:\n",
    "# max: 2.0\n",
    "# min: 0.2\n",
    "# lrf:\n",
    "# max: 0.15\n",
    "# min: 0.05\n",
    "# lr0:\n",
    "# max: 0.01 \n",
    "# min: 0.001\n",
    "# cls:\n",
    "# max: 1.0\n",
    "# min: 0.1\n",
    "# box:\n",
    "# max: 0.1\n",
    "# min: 0.01\n",
    "# copy_paste:\n",
    "# value: 0"
   ]
  },
  {
   "cell_type": "code",
   "execution_count": null,
   "id": "Dy63TQsPpKhk",
   "metadata": {
    "id": "Dy63TQsPpKhk"
   },
   "outputs": [],
   "source": [
    "# !wandb sweep /content/drive/MyDrive/University/year_4/dp4/working-cells/yolov5/utils/loggers/wandb/sweep.yaml"
   ]
  },
  {
   "cell_type": "code",
   "execution_count": null,
   "id": "YTcAg9r7pJv7",
   "metadata": {
    "id": "YTcAg9r7pJv7"
   },
   "outputs": [],
   "source": [
    "# !wandb agent fxn-m/YOLOv5-cells-sweeps/kyg9c3ej"
   ]
  },
  {
   "cell_type": "markdown",
   "id": "roL0iosi3EVU",
   "metadata": {
    "id": "roL0iosi3EVU"
   },
   "source": [
    "# set hyperparameters"
   ]
  },
  {
   "cell_type": "code",
   "execution_count": null,
   "id": "Qtpo5h8i3F1H",
   "metadata": {
    "id": "Qtpo5h8i3F1H"
   },
   "outputs": [],
   "source": [
    "# %%writefile /content/drive/MyDrive/University/year_4/dp4/working-cells/yolov5/hyp.yaml\n",
    "\n",
    "# lr0: 0.01  # initial learning rate (SGD=1E-2, Adam=1E-3)\n",
    "# lrf: 0.01  # final OneCycleLR learning rate (lr0 * lrf)\n",
    "# momentum: 0.937  # SGD momentum/Adam beta1\n",
    "# weight_decay: 0.0005  # optimizer weight decay 5e-4\n",
    "# warmup_epochs: 3.0  # warmup epochs (fractions ok)\n",
    "# warmup_momentum: 0.8  # warmup initial momentum\n",
    "# warmup_bias_lr: 0.1  # warmup initial bias lr\n",
    "# box: 0.05  # box loss gain\n",
    "# cls: 0.5  # cls loss gain\n",
    "# cls_pw: 1.0  # cls BCELoss positive_weight\n",
    "# obj: 1.0  # obj loss gain (scale with pixels)\n",
    "# obj_pw: 1.0  # obj BCELoss positive_weight\n",
    "# iou_t: 0.20  # IoU training threshold\n",
    "# anchor_t: 4.0  # anchor-multiple threshold\n",
    "# # anchors: 3  # anchors per output layer (0 to ignore)\n",
    "# fl_gamma: 0.0  # focal loss gamma (efficientDet default gamma=1.5)\n",
    "# hsv_h: 0.015  # image HSV-Hue augmentation (fraction)\n",
    "# hsv_s: 0.7  # image HSV-Saturation augmentation (fraction)\n",
    "# hsv_v: 0.4  # image HSV-Value augmentation (fraction)\n",
    "# degrees: 0.0  # image rotation (+/- deg)\n",
    "# translate: 0.1  # image translation (+/- fraction)\n",
    "# scale: 0.5  # image scale (+/- gain)\n",
    "# shear: 0.0  # image shear (+/- deg)\n",
    "# perspective: 0.0  # image perspective (+/- fraction), range 0-0.001\n",
    "# flipud: 0.0  # image flip up-down (probability)\n",
    "# fliplr: 0.5  # image flip left-right (probability)\n",
    "# mosaic: 0  # image mosaic (probability)\n",
    "# mixup: 0.0  # image mixup (probability)\n",
    "# copy_paste: 0.0  # segment copy-paste (probability)\n",
    "\n",
    "# optimizer:\n",
    "#   desc: null\n",
    "#   value: Adam\n",
    "\n",
    "# weights:\n",
    "#   desc: null\n",
    "#   value: yolov5s6.pt\n"
   ]
  },
  {
   "cell_type": "code",
   "execution_count": null,
   "id": "e3e40CY74DrH",
   "metadata": {
    "id": "e3e40CY74DrH"
   },
   "outputs": [],
   "source": [
    "# hyps = '/content/drive/MyDrive/University/year_4/dp4/working-cells/yolov5/hyp.yaml'"
   ]
  },
  {
   "cell_type": "markdown",
   "id": "REdHPeoTvanD",
   "metadata": {
    "id": "REdHPeoTvanD"
   },
   "source": [
    "# standard train"
   ]
  },
  {
   "cell_type": "code",
   "execution_count": null,
   "id": "5edb67c6",
   "metadata": {
    "id": "5edb67c6"
   },
   "outputs": [],
   "source": [
    "%cd /content/drive/MyDrive/University/year_4/dp4/working-cells/yolov5/\n",
    "\n",
    "!python train.py --img 640 --batch 12 --epochs 150 --optimizer {opt} --data {location}/data.yaml --weights yolov5s6.pt --project 'YOLOv5-cells' --name {name}\n",
    "\n",
    "# !python train.py --img {dim} --batch {batch} --epochs {epochs} --optimizer {opt} --data {location}/data.yaml --hyp {hyps} --weights {model}.pt --cache --project 'YOLOv5-cells' --name {name} --patience 0\n",
    "\n",
    "# !python train.py --img {dim} --batch {batch} --epochs {epochs} --optimizer {opt} --data {location}/data.yaml --weights '' --cfg yolov5s.yaml --cache --project 'YOLOv5-cells' --name {name} --patience 0"
   ]
  },
  {
   "cell_type": "markdown",
   "id": "kQdxJ1OcatY6",
   "metadata": {
    "id": "kQdxJ1OcatY6"
   },
   "source": [
    "# dataset size experiments"
   ]
  },
  {
   "cell_type": "code",
   "execution_count": null,
   "id": "2aU7-1j6LJW7",
   "metadata": {
    "id": "2aU7-1j6LJW7"
   },
   "outputs": [],
   "source": [
    "model = \"yolov5s6\"\n",
    "print(dim, batch, epochs)"
   ]
  },
  {
   "cell_type": "code",
   "execution_count": null,
   "id": "hBA1Pg78yqOe",
   "metadata": {
    "id": "hBA1Pg78yqOe"
   },
   "outputs": [],
   "source": [
    "for epochs in np.linspace(10, 12, 11):\n",
    "  print(int(epochs))"
   ]
  },
  {
   "cell_type": "code",
   "execution_count": null,
   "id": "vaXeJFs1ar4a",
   "metadata": {
    "id": "vaXeJFs1ar4a"
   },
   "outputs": [],
   "source": [
    "for epochs in np.linspace(10, 12, 11):\n",
    "\n",
    "  %cd /content/drive/MyDrive/University/year_4/dp4/working-cells/yolov5/\n",
    "\n",
    "  epochs = int(epochs)\n",
    "\n",
    "  !python train.py --img {dim} --batch {batch} --epochs {epochs} --optimizer {opt} --data {location}/data.yaml --weights {model}.pt --cache --project 'YOLOv5-cells' --name {name} --patience 0"
   ]
  },
  {
   "cell_type": "markdown",
   "id": "kkePt7IdrXQG",
   "metadata": {
    "id": "kkePt7IdrXQG"
   },
   "source": [
    "# evaluate model"
   ]
  },
  {
   "cell_type": "code",
   "execution_count": null,
   "id": "QnqKM6szHZbn",
   "metadata": {
    "id": "QnqKM6szHZbn"
   },
   "outputs": [],
   "source": [
    "%cd /content/drive/MyDrive/University/year_4/dp4/working-cells/yolov5\n",
    "\n",
    "path = './YOLOv5-cells/module_1-dim640-batch_size12-tlNO-mosNO-colab2/weights/best.pt'\n",
    "\n",
    "!python detect.py --weights {path} --img {dim} --conf 0.3 --source {dataset.location}/valid/images"
   ]
  },
  {
   "cell_type": "code",
   "execution_count": null,
   "id": "IEODQvJsZ-nk",
   "metadata": {
    "id": "IEODQvJsZ-nk"
   },
   "outputs": [],
   "source": [
    "#display inference on test images\n",
    "\n",
    "import glob\n",
    "from IPython.display import Image, display\n",
    "\n",
    "display_width = 2048/4\n",
    "display_height= 1536/4\n",
    "\n",
    "\n",
    "\n",
    "for imageName in glob.glob('/content/drive/MyDrive/University/year_4/dp4/working-cells/yolov5/runs/detect/exp6/*.jpg'): #assuming JPG\n",
    "    # display(Image(filename=imageName))\n",
    "    display(Image(filename=imageName, width=display_width, height=display_height))\n",
    "    print(\"\\n\")"
   ]
  }
 ],
 "metadata": {
  "accelerator": "GPU",
  "colab": {
   "collapsed_sections": [
    "rUyalxbcuUKG",
    "roL0iosi3EVU",
    "kkePt7IdrXQG"
   ],
   "include_colab_link": true,
   "name": "YOLOv5-cells",
   "provenance": []
  },
  "kernelspec": {
   "display_name": "Python 3",
   "language": "python",
   "name": "python3"
  },
  "language_info": {
   "codemirror_mode": {
    "name": "ipython",
    "version": 3
   },
   "file_extension": ".py",
   "mimetype": "text/x-python",
   "name": "python",
   "nbconvert_exporter": "python",
   "pygments_lexer": "ipython3",
   "version": "3.8.8"
  }
 },
 "nbformat": 4,
 "nbformat_minor": 5
}
