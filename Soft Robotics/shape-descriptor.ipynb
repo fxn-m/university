{
 "cells": [
  {
   "cell_type": "code",
   "execution_count": null,
   "metadata": {},
   "outputs": [],
   "source": [
    "import numpy as np\n",
    "import cv2 as cv\n",
    "import math\n",
    "import matplotlib.pyplot as plt"
   ]
  },
  {
   "cell_type": "code",
   "execution_count": null,
   "metadata": {},
   "outputs": [],
   "source": [
    "def sorting(centers_initial, centers_present):\n",
    "    '''this function sorts the centers detected.\n",
    "    '''\n",
    "    centers_intermediate = np.ones((5, 2))\n",
    "    # looping\n",
    "    for i in range(5):\n",
    "        for j in range(5):\n",
    "            # calculating distance and judge\n",
    "            if np.sqrt(np.sum(np.square(centers_initial[i]-centers_present[j]))) < 40:\n",
    "                centers_intermediate[i] = centers_present[j]\n",
    "                break\n",
    "    centers_intermediate = centers_intermediate.astype(np.int16)\n",
    "    return centers_intermediate\n",
    "\n",
    "\n",
    "def angle_between_lines(p1, p2, p3):\n",
    "    \"\"\"\n",
    "    Calculate the angle between the line p1-p2 and p2-p3\n",
    "    \"\"\"\n",
    "    v1 = np.array([p1[0] - p2[0], p1[1] - p2[1]])\n",
    "    v2 = np.array([p3[0] - p2[0], p3[1] - p2[1]])\n",
    "\n",
    "    cosine_angle = np.dot(v1, v2) / (np.linalg.norm(v1) * np.linalg.norm(v2))\n",
    "    angle = np.arccos(cosine_angle)\n",
    "\n",
    "    return angle * 180 / math.pi"
   ]
  },
  {
   "cell_type": "code",
   "execution_count": null,
   "metadata": {},
   "outputs": [],
   "source": [
    "file_path = 'soft-robotics-demo-slow.mp4'\n",
    "vc = cv.VideoCapture(file_path)\n",
    "\n",
    "if (vc.isOpened() == False):\n",
    "    print(\"Error opening video stream or file\")\n",
    "\n",
    "origin = np.array([500, 0])\n",
    "# dims 1920x1080\n",
    "shape = np.array([1200, 1080])"
   ]
  },
  {
   "cell_type": "code",
   "execution_count": null,
   "metadata": {},
   "outputs": [],
   "source": [
    "centers_temp = np.array([])\n",
    "angles_list = []\n",
    "\n",
    "while (vc.isOpened()):\n",
    "    ret, img_rgb = vc.read()\n",
    "\n",
    "    # cropping\n",
    "    img_rgb = img_rgb[origin[1]:shape[1], origin[0]:shape[0]]\n",
    "\n",
    "    # blurring\n",
    "    img_rgb = cv.medianBlur(img_rgb, 5)\n",
    "\n",
    "    img_hsv = cv.cvtColor(img_rgb, cv.COLOR_BGR2HSV)\n",
    "\n",
    "    # detecting points by color\n",
    "    red_hsv_lower = np.array([0, 50, 50])\n",
    "    red_hsv_higher = np.array([10, 255, 255])\n",
    "    mask1 = cv.inRange(img_hsv, lowerb=red_hsv_lower,\n",
    "                        upperb=red_hsv_higher)\n",
    "\n",
    "    red_hsv_lower = np.array([156, 50, 50])\n",
    "    red_hsv_higher = np.array([180, 255, 255])\n",
    "    mask2 = cv.inRange(img_hsv, lowerb=red_hsv_lower,\n",
    "                        upperb=red_hsv_higher)\n",
    "    mask = mask1 + mask2\n",
    "\n",
    "    # detecting contours\n",
    "    contours, hierarchy = cv.findContours(\n",
    "        mask, cv.RETR_TREE, cv.CHAIN_APPROX_NONE)\n",
    "\n",
    "    # finding centers of contours\n",
    "    centers = []\n",
    "    for cnt in contours:\n",
    "        (x, y), radius = cv.minEnclosingCircle(cnt)\n",
    "        center = (int(x), int(y))\n",
    "\n",
    "        cv.circle(img_rgb, center, 5, (255, 0, 0), -1)\n",
    "        centers.append([center[0], center[1]])\n",
    "\n",
    "    centers = np.array(centers)\n",
    "    if len(centers_temp) == 0:\n",
    "        centers_temp = centers\n",
    "\n",
    "    # sorting\n",
    "    centers = sorting(centers_temp, centers)\n",
    "    centers_temp = centers\n",
    "\n",
    "    # calculating angles\n",
    "    angles = []\n",
    "    for i in range(len(centers)-2):\n",
    "        angles.append(angle_between_lines(\n",
    "            centers[i], centers[i+1], centers[i+2]))\n",
    "    angles_list.append(angles)\n",
    "\n",
    "    # drawing lines\n",
    "    for i in range(len(centers)-1):\n",
    "        cv.line(img_rgb, (centers[i, 0], centers[i, 1]),\n",
    "                (centers[i+1, 0], centers[i+1, 1]), (255, 0, 0), 2)\n",
    "\n",
    "    if ret:\n",
    "        cv.imshow('image', img_rgb)\n",
    "\n",
    "        if cv.waitKey(27) & 0xFF == ord('q'):\n",
    "            break\n",
    "\n",
    "    else:\n",
    "        break\n",
    "\n",
    "cv.destroyAllWindows()\n",
    "\n",
    "# After the video processing loop\n",
    "angles_array = np.array(angles_list)\n",
    "\n",
    "# Plot the angles for each adjacent line pair\n",
    "for i in range(angles_array.shape[1]):\n",
    "    plt.plot(angles_array[:, i], label=f\"Line pair {i+1}\")\n",
    "\n",
    "plt.xlabel(\"Frame\")\n",
    "plt.ylabel(\"Angle (degrees)\")\n",
    "plt.legend()\n",
    "plt.show()\n"
   ]
  },
  {
   "cell_type": "code",
   "execution_count": null,
   "metadata": {},
   "outputs": [],
   "source": []
  },
  {
   "cell_type": "code",
   "execution_count": 3,
   "metadata": {},
   "outputs": [],
   "source": []
  },
  {
   "cell_type": "code",
   "execution_count": 4,
   "metadata": {},
   "outputs": [
    {
     "name": "stdout",
     "output_type": "stream",
     "text": [
      "['recordings\\\\IMG_3677.MOV', 'recordings\\\\IMG_3678.MOV', 'recordings\\\\IMG_3679.MOV', 'recordings\\\\IMG_3680.MOV', 'recordings\\\\IMG_3681.MOV', 'recordings\\\\IMG_3682.MOV', 'recordings\\\\IMG_3683.MOV', 'recordings\\\\IMG_3684.MOV', 'recordings\\\\IMG_3685.MOV', 'recordings\\\\IMG_3687.MOV', 'recordings\\\\IMG_3688.MOV', 'recordings\\\\IMG_3689.MOV', 'recordings\\\\IMG_3690.MOV', 'recordings\\\\IMG_3691.MOV', 'recordings\\\\IMG_3692.MOV', 'recordings\\\\IMG_3693.MOV', 'recordings\\\\IMG_3694.MOV', 'recordings\\\\IMG_3695.MOV', 'recordings\\\\IMG_3697.MOV', 'recordings\\\\IMG_3698.MOV', 'recordings\\\\IMG_3699.MOV', 'recordings\\\\IMG_3700.MOV', 'recordings\\\\IMG_3701.MOV', 'recordings\\\\IMG_3702.MOV', 'recordings\\\\IMG_3703.MOV', 'recordings\\\\IMG_3704.MOV', 'recordings\\\\IMG_3705.MOV', 'recordings\\\\IMG_3706.MOV', 'recordings\\\\IMG_3707.MOV', 'recordings\\\\IMG_3708.MOV', 'recordings\\\\IMG_3709.MOV', 'recordings\\\\IMG_3710.MOV', 'recordings\\\\IMG_3711.MOV', 'recordings\\\\IMG_3712.MOV', 'recordings\\\\IMG_3714.MOV', 'recordings\\\\IMG_3715.MOV', 'recordings\\\\IMG_3716.MOV', 'recordings\\\\IMG_3717.MOV', 'recordings\\\\IMG_3718.MOV', 'recordings\\\\IMG_3719.MOV', 'recordings\\\\IMG_3720.MOV', 'recordings\\\\IMG_3721.MOV', 'recordings\\\\IMG_3722.MOV', 'recordings\\\\IMG_3723.MOV', 'recordings\\\\IMG_3724.MOV', 'recordings\\\\IMG_3725.MOV', 'recordings\\\\IMG_3726.MOV', 'recordings\\\\IMG_3727.MOV', 'recordings\\\\IMG_3728.MOV', 'recordings\\\\IMG_3729.MOV', 'recordings\\\\IMG_3730.MOV']\n"
     ]
    }
   ],
   "source": [
    "paths = get_video_paths()\n",
    "\n",
    "print(paths)"
   ]
  }
 ],
 "metadata": {
  "kernelspec": {
   "display_name": "Python 3",
   "language": "python",
   "name": "python3"
  },
  "language_info": {
   "codemirror_mode": {
    "name": "ipython",
    "version": 3
   },
   "file_extension": ".py",
   "mimetype": "text/x-python",
   "name": "python",
   "nbconvert_exporter": "python",
   "pygments_lexer": "ipython3",
   "version": "3.11.2"
  },
  "orig_nbformat": 4
 },
 "nbformat": 4,
 "nbformat_minor": 2
}
